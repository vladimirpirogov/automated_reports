{
 "cells": [
  {
   "cell_type": "code",
   "execution_count": 4,
   "metadata": {
    "colab": {
     "base_uri": "https://localhost:8080/"
    },
    "id": "euECwyMCACEx",
    "outputId": "d061ca2a-ea18-43a3-8a11-c304847e5585"
   },
   "outputs": [],
   "source": [
    "# !pip install fpdf2"
   ]
  },
  {
   "cell_type": "code",
   "execution_count": 1,
   "metadata": {},
   "outputs": [],
   "source": [
    "from fpdf import FPDF\n",
    "\n",
    "import math\n",
    "import numpy as np \n",
    "\n",
    "import warnings\n",
    "warnings.filterwarnings(\"ignore\")"
   ]
  },
  {
   "cell_type": "code",
   "execution_count": 2,
   "metadata": {
    "id": "7sj8zCj2leb5"
   },
   "outputs": [],
   "source": [
    "number_of_cell_for_each_children = 14\n",
    "activities_order = ['активное участие в групповых дискуссиях',\n",
    "                    'групповые активности',\n",
    "                    'творческие задания',\n",
    "                    'индивидуальные активности',\n",
    "                    'динамичные игры и задания',\n",
    "                    'крафтовые активности',\n",
    "                    'спокойные игры и задания',\n",
    "                    'парные активности',\n",
    "                    'задания на распечатках']\n",
    "\n",
    "class subject():\n",
    "    def __init__(self, data, i):\n",
    "        self.teacher_name = data.iloc[i, 1]\n",
    "        self.subject = data.iloc[i, 2]\n",
    "        self.group = data.iloc[i, 3]\n",
    "        self.description = data.iloc[i, 4]\n",
    "        self.skills = data.iloc[i, 5:15]\n",
    "\n",
    "\n",
    "class student():\n",
    "    def __init__(self, data, i, student_number): # i - string in tables = number which inticated subject\n",
    "        if data.iloc[i, 15 + (student_number)*number_of_cell_for_each_children] == float(\"nan\"):\n",
    "            self.existe = False\n",
    "        else:     \n",
    "            self.existe = True\n",
    "            self.student_name = data.iloc[i, 15 + (student_number)*number_of_cell_for_each_children]\n",
    "            self.skills_evaluation = list(data.iloc[i, (student_number)*number_of_cell_for_each_children+16:(student_number)*number_of_cell_for_each_children+26])\n",
    "            \n",
    "            value = data.iloc[i, 26 + (student_number)*number_of_cell_for_each_children] \n",
    "            if value!=value:\n",
    "                self.preferences = []\n",
    "            else: \n",
    "                # print(data.iloc[i, 26 + (student_number)*number_of_cell_for_each_children])\n",
    "                self.preferences = data.iloc[i, 26 + (student_number)*number_of_cell_for_each_children].split(', ')\n",
    "            self.notes = data.iloc[i, 27 + (student_number)*number_of_cell_for_each_children]\n",
    "            self.notes_stuff = data.iloc[i, 28 + (student_number)*number_of_cell_for_each_children]"
   ]
  },
  {
   "cell_type": "code",
   "execution_count": 123,
   "metadata": {},
   "outputs": [],
   "source": [
    "class PDF(FPDF):\n",
    "    # Page footer\n",
    "    def header(self):\n",
    "        pass\n",
    "    \n",
    "    \n",
    "    def footer(self):\n",
    "        # Do not print footer on first page \n",
    "        if self.page_no() != 1:\n",
    "            # Position at 1.5 cm from bottom\n",
    "            self.set_y(-10)\n",
    "            # Arial italic 8\n",
    "            self.set_font('Arial', 'I', 8)\n",
    "            # Page number\n",
    "            # self.cell(0, 10, 'Page ' + str(self.page_no()) + '/{nb}', 0, 0, 'C')"
   ]
  },
  {
   "cell_type": "code",
   "execution_count": 124,
   "metadata": {
    "id": "Uf-1MaOiqySy"
   },
   "outputs": [],
   "source": [
    "def is_nan_check (a):\n",
    "    if a != a:\n",
    "        return True\n",
    "    else:\n",
    "        False\n",
    "\n",
    "\n",
    "def report(subject, student):\n",
    "    pdf = PDF('P', 'mm', 'A4')\n",
    "\n",
    "    pdf.add_page()\n",
    "\n",
    "    # создание фона\n",
    "    pdf.image('./Макет для отчетов/отчет_ФинальнаяВерсия_безФото.jpg', x = 0, y = 0, w = 210, h = 297, type = '', link = '')\n",
    "\n",
    "    # добавление значка\n",
    "    # pdf.image('/content/back_1.jpg', x = 20, y = 40, w = 10, h = 10, type = '', link = '')\n",
    "\n",
    "    # добавление шрифта\n",
    "    pdf.add_font('DIN-Bold', '', r\"./font/DINAlternate-Bold.ttf\", uni=True)\n",
    "    pdf.add_font('DIN', '', r\"./font/DINPro.ttf\", uni=True)\n",
    "    pdf.add_font('DIN-Light', '', r\"./font/DINPro-Light.ttf\", uni=True)\n",
    "\n",
    "    # добавление шрифта\n",
    "    # pdf.add_font('DIN', '', r\"./font/din-regularalternate.ttf\", uni=True)\n",
    "    # setting font and size and writing text to cell\n",
    "    # pdf.set_font(\"DIN\", size=25)\n",
    "\n",
    "    # Шапка\n",
    "    pdf.set_font(\"DIN\", size=22)\n",
    "    pdf.set_y(5)\n",
    "    pdf.set_x(60)\n",
    "    pdf.cell(ln=2, h=10, align='L', w=0, text=\"I ТРИМЕСТР 2023-2024\", border=0,fill = False)\n",
    "    \n",
    "    # имя студента\n",
    "    pdf.set_y(15)\n",
    "    pdf.set_x(31)\n",
    "    pdf.cell(ln=2, h=10, align='L', w=0, text=str(student.student_name).upper(), border=0,fill = False)\n",
    "    \n",
    "    # группа\n",
    "    pdf.set_y(15)\n",
    "    pdf.set_x(110)\n",
    "    pdf.cell(ln=2, h=10, align='L', w=0, text=\"Группа : \" + str(subject.group), border=0,fill = False)\n",
    "    \n",
    "    \n",
    "    pdf.set_font(\"DIN\", size=20)\n",
    "    \n",
    "    # название предмета\n",
    "    pdf.set_y(28)\n",
    "    pdf.set_x(0)\n",
    "    pdf.cell(ln=2, h=15, align='C', w=210, text=str(subject.subject).upper(), border=0,fill = False)\n",
    "\n",
    "    # имя преподавтеля\n",
    "    pdf.set_y(45)\n",
    "    pdf.set_x(0)\n",
    "    pdf.cell(ln=2, h=0, align='C', w=210, text=\"Преподаватель : \" + subject.teacher_name, border=0,fill = False)\n",
    "\n",
    "    # О курсе (заголовок)\n",
    "    pdf.set_font(\"DIN\", size=18)\n",
    "    pdf.set_y(55.5)\n",
    "    pdf.set_x(7.5)\n",
    "    pdf.cell(ln=2, h=0, align='L', w=0, text=\"О курсе\", border=0,fill = False)\n",
    "\n",
    "    # О курсе (содержание)\n",
    "    pdf.set_font(\"DIN\", size=10.5)\n",
    "    pdf.set_y(65)\n",
    "    pdf.set_x(10.5)\n",
    "    # pdf.cell(ln=2, h=40, align='L', w=0, text=subject.description, border=0,fill = False)\n",
    "    pdf.multi_cell(h=40, w=187, text=str(subject.description), border=0, ln=3, max_line_height=pdf.font_size+1, align = 'L')\n",
    "    \n",
    "    # Навыки и усвоение темы (заголовок)\n",
    "    pdf.set_font(\"DIN\", size=18)\n",
    "    pdf.set_y(115)\n",
    "    pdf.set_x(7.5)\n",
    "    pdf.cell(ln=2, h=0, align='L', w=0, text=\"Навыки и усвоение тем\", border=0,fill = False)\n",
    "\n",
    "    # Навыки и усвоение темы (содеражние)\n",
    "    start_position = 130\n",
    "    pdf.set_font(\"DIN\", size=10)\n",
    "\n",
    "    for j in range(len(subject.skills)):\n",
    "            \n",
    "        pdf.set_y(0)\n",
    "        pdf.set_x(0)\n",
    "        if not is_nan_check(subject.skills[j]):\n",
    "            # pdf.cell(ln=2, h=10, align='L', w=0, text=subject.skills[j], border=0,fill = False)\n",
    "            if student.skills_evaluation[j] == 'Отлично':\n",
    "                pdf.image('./Макет для отчетов/иконки солнышки облачка/sun.jpg', x = 10, y = start_position + j*11.5, w = 10, h = 10, type = '', link = '')\n",
    "            elif student.skills_evaluation[j] == 'Хорошо':\n",
    "                pdf.image('./Макет для отчетов/иконки солнышки облачка/suncloud.jpg', x = 10, y = start_position + j*11.5, w = 11.5, h = 10, type = '', link = '')\n",
    "            else:\n",
    "                pdf.image('./Макет для отчетов/иконки солнышки облачка/cloud.jpg', x = 10, y = start_position + j*11.5, w = 11, h = 10, type = '', link = '')\n",
    "\n",
    "            pdf.set_y(start_position + j*11.5)\n",
    "            pdf.set_x(21)\n",
    "            pdf.multi_cell(h=10, w=80, text=str(subject.skills[j]), border=0, align = 'L', max_line_height=pdf.font_size)     \n",
    "\n",
    "    # Динамика на уроках (заголовок)\n",
    "    pdf.set_font(\"DIN\", size=18)\n",
    "    pdf.set_y(115)\n",
    "    pdf.set_x(135)\n",
    "    pdf.cell(ln=2, h=0, align='L', w=0, text=\"Динамика на уроках\", border=0,fill = False)\n",
    "\n",
    "    # if student.student_name == \"Виктор Ришар\":\n",
    "    #     print(student.preferences)\n",
    "    \n",
    "    \n",
    "    # Динамика на уроках (содержание)\n",
    "    picture_size = 27.4\n",
    "    for j in range(8):\n",
    "        if activities_order[j] in student.preferences:\n",
    "            pdf.image('./Макет для отчетов/иконки для макета jpg/0'+str(j+1)+'.jpg', x = 141 + (j%2) * 27, y = 140 + (j//2) * 27, w = picture_size, h = picture_size, type = '', link = '')\n",
    "        else :\n",
    "            pdf.image('./Макет для отчетов/иконки для макета jpg/0'+str(j+1)+'bw.jpg', x = 141 + (j%2) * 27 , y = 140 + (j//2) * 27, w = picture_size, h = picture_size, type = '', link = '')\n",
    "\n",
    "    # Заметки учителя (заголовок)\n",
    "    pdf.set_font(\"DIN\", size=18)\n",
    "    pdf.set_y(254)\n",
    "    pdf.set_x(7.5)\n",
    "    pdf.cell(ln=2, h=0, align='L', w=0, text=\"Заметки учителя\", border=0,fill = False)\n",
    "\n",
    "    # Заметки учителя (текст)\n",
    "    pdf.set_font(\"DIN\", size=10.5)\n",
    "    pdf.set_y(258)\n",
    "    pdf.set_x(10)\n",
    "    pdf.multi_cell(h=30, w=187, ln = 3, text=str(student.notes), border=0, max_line_height=pdf.font_size, align = 'L')\n",
    "    \n",
    "    # Для закрытия листа\n",
    "    pdf.set_y(200)\n",
    "    pdf.set_x(10)\n",
    "    pdf.multi_cell(h=25, w=187, text='', border=0, ln=3, max_line_height=pdf.font_size, align = 'L')\n",
    "    \n",
    "    pdf.output(\"отчёты/\"+str(student.student_name)+\" \"+str(subject.subject)+\".pdf\", 'F')"
   ]
  },
  {
   "cell_type": "code",
   "execution_count": 125,
   "metadata": {
    "colab": {
     "base_uri": "https://localhost:8080/"
    },
    "id": "DnnFUu56OCP_",
    "outputId": "a60dee86-f455-47a3-e254-f628de110724"
   },
   "outputs": [],
   "source": [
    "# происходит чтение файла, проверка адекватности ввода значений\n",
    "import pandas as pd\n",
    "from fpdf import FPDF\n",
    "\n",
    "data = pd.read_csv('ответы - 1.csv')\n",
    "data.head(5)\n",
    "\n",
    "for i in range(len(data)):\n",
    "    sub = subject(data, i)\n",
    "    for j in range(12):\n",
    "        stud = student(data, i, j)\n",
    "        if stud.existe :\n",
    "            report(sub, stud)\n",
    "\n",
    "    # print(len(sub.skills))"
   ]
  },
  {
   "cell_type": "code",
   "execution_count": 52,
   "metadata": {},
   "outputs": [
    {
     "data": {
      "text/plain": [
       "nan"
      ]
     },
     "execution_count": 52,
     "metadata": {},
     "output_type": "execute_result"
    }
   ],
   "source": [
    "data.iloc[0, -5]"
   ]
  },
  {
   "cell_type": "code",
   "execution_count": 86,
   "metadata": {
    "colab": {
     "base_uri": "https://localhost:8080/",
     "height": 35
    },
    "id": "hU__m0rFmPMV",
    "outputId": "5637e487-ea56-48b1-df35-50c7890482fc"
   },
   "outputs": [
    {
     "data": {
      "text/plain": [
       "'групповые активности'"
      ]
     },
     "execution_count": 86,
     "metadata": {},
     "output_type": "execute_result"
    }
   ],
   "source": [
    "student_number = 6\n",
    "i = 0\n",
    "data.iloc[i, 26 + (student_number-1)*number_of_cell_for_each_children]"
   ]
  },
  {
   "cell_type": "code",
   "execution_count": null,
   "metadata": {
    "colab": {
     "base_uri": "https://localhost:8080/"
    },
    "id": "FRtd5jq2RGE5",
    "outputId": "0ead3475-9618-48ab-aa06-c8b00e2d8bf8"
   },
   "outputs": [],
   "source": [
    "search = ['индивидуальные активности', 'парные активности', 'групповые активности', 'крафтовые активности', 'творческие задания', 'спокойные игры и задания', 'динамичные игры и задания', 'задания на распечатках', 'активное участие в групповых дискуссиях']\n",
    "current_children = data.iloc[0,26].split(', ')\n",
    "for i in range(len(current_children)):\n",
    "  print(search.index(current_children[i]))"
   ]
  },
  {
   "cell_type": "code",
   "execution_count": null,
   "metadata": {},
   "outputs": [],
   "source": []
  }
 ],
 "metadata": {
  "colab": {
   "provenance": []
  },
  "kernelspec": {
   "display_name": "Python 3",
   "language": "python",
   "name": "python3"
  },
  "language_info": {
   "codemirror_mode": {
    "name": "ipython",
    "version": 3
   },
   "file_extension": ".py",
   "mimetype": "text/x-python",
   "name": "python",
   "nbconvert_exporter": "python",
   "pygments_lexer": "ipython3",
   "version": "3.8.8"
  }
 },
 "nbformat": 4,
 "nbformat_minor": 1
}
